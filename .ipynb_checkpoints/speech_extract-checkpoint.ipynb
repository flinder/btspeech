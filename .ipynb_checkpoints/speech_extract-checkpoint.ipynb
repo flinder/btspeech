{
 "metadata": {
  "name": "",
  "signature": "sha256:c52cfdcf16c96ac80d7793c86043b4d87f85a658a2e8056ca54d559fa27f582f"
 },
 "nbformat": 3,
 "nbformat_minor": 0,
 "worksheets": [
  {
   "cells": [
    {
     "cell_type": "heading",
     "level": 1,
     "metadata": {},
     "source": [
      "Preparation of German Parliamentary Speech Data for Analysis"
     ]
    },
    {
     "cell_type": "heading",
     "level": 2,
     "metadata": {},
     "source": [
      "Step one: Extract relevant speech"
     ]
    },
    {
     "cell_type": "markdown",
     "metadata": {},
     "source": [
      "The input data are the raw session protocols which contain a lot of material that is not speech by members of parliament. The first part of the program extracts the relevant speech.\n",
      "\n",
      "Issues:\n",
      "In 15th period speakers are not recognized as MPs\n",
      "(last change: remove spaces at beginning of lines) removing more then one space: 15 doesn't work\n",
      "removing one or less 16 doesn't work"
     ]
    },
    {
     "cell_type": "code",
     "collapsed": false,
     "input": [
      "# Tests\n",
      "import codecs\n",
      "\n",
      "fname = unicode('Gerhard R\u00fcbenk\u00f6nig.txt', 'UTF-8')\n",
      "print fname\n",
      "outfile = codecs.open(fname, 'a')\n",
      "#outfile.write(\"Gerhard R\u00fcbenk\u00f6nig\")\n",
      "outfile.close()"
     ],
     "language": "python",
     "metadata": {},
     "outputs": [
      {
       "output_type": "stream",
       "stream": "stdout",
       "text": [
        "Gerhard R\u00fcbenk\u00f6nig.txt\n"
       ]
      }
     ],
     "prompt_number": 14
    },
    {
     "cell_type": "code",
     "collapsed": false,
     "input": [
      "infile.close()"
     ],
     "language": "python",
     "metadata": {},
     "outputs": []
    },
    {
     "cell_type": "code",
     "collapsed": false,
     "input": [
      "import re\n",
      "import os\n",
      "import time\n",
      "\n",
      "# Directories\n",
      "indir = \"raw_data/\"\n",
      "outdir = \"mpout/\"\n",
      "\n",
      "# Regular expressions\n",
      "reg_start = r'^ ?Beginn:.+Uhr\\s+$'\n",
      "reg_stop = r'Anlagen? zum [S,s]tenografischen Bericht'\n",
      "reg_comment = r'^\\(.+\\)? ?$'\n",
      "reg_spkch = r'^[A-Z].+:\\s+$'\n",
      "reg_ncap = r'( [a-z][a-z])'\n",
      "reg_van = r'( +van)|( +von)|( +bei)|( +und)|( +f\u00fcr)|( +im)|( +beim)|0( +der)|( +der)|( +des)|( +besondere)|( +wirtschaftliche)|( +de)|( +zu)|( +am)'\n",
      "reg_space = r'\\w+ \\w+'\n",
      "reg_TOP = r'punkt'\n",
      "reg_bracket = r'^\\('\n",
      "reg_ex1 = r'(Kolleg)|(Beispiel)|(Schluss)|(Beirates)|(Ja,)|(Leitlinie)|(Verlangen)|(Frage)|(Antwort)|(Zitat)|(Wahlkampf)|(Herr)|(Drittens)'\n",
      "#reg_drop = r'[^a-zA-Z\\xe4\\xf6\\xfc\\xdf\\s:]' # delete : again\n",
      "reg_smcol = r' [a-z]+:$'\n",
      "\n",
      "def matchNames(line, namelist):\n",
      "    match_count = 0\n",
      "    match_list = []\n",
      "\t# MPs who changed names\n",
      "    if line == 'Grietje Bettin':\n",
      "        line = 'Grietje Staffelt'\n",
      "    if line == 'Kersten Naumann':\n",
      "        line = 'Kersten Steinke'\n",
      "    if line == 'Agnes Malczak':\n",
      "        line = 'Agnes Brugger'\n",
      "    if line == 'Nadine M\u00fcller':\n",
      "        line = 'Nadine Sch\u00f6n'\n",
      "    try:\n",
      "        mandate = namelist[line][period]\n",
      "    except KeyError:\n",
      "        name = line.split(' ')\n",
      "        lastname = name[-1] + '$'\n",
      "        # Searc hfor match by last name\n",
      "        for key in namelist:\n",
      "            match = None\n",
      "            match = re.search(lastname, key)\n",
      "            if match:\n",
      "                match_count += 1\n",
      "                match_list.append(namelist[key])\n",
      "                mandate = namelist[key][period]   \n",
      "        if match_count < 1:\n",
      "            mandate = None\n",
      "            print 'Warning: No mandate type found for %s' %line\n",
      "        # If several matches by last name use first name\n",
      "        if match_count > 1:\n",
      "            firstname = name[0]\n",
      "            match_count2 = 0\n",
      "            for mp in match_list:\n",
      "                match = re.search(firstname, mp['Name'])\n",
      "                if match:\n",
      "                    match_count2 += 1\n",
      "                    mandate = mp[period]\n",
      "            if match_count2 == 0:\n",
      "                mandate = None\n",
      "                print 'Warning: No mandate type found for %s' %line\n",
      "            if match_count2 > 1:\n",
      "                print 'Warning: Multiple matches for %s not resolved #########' %line\n",
      "    return(mandate) \n",
      "\n",
      "    \n",
      "def makeFilename (line, period, namelist, outdir):\n",
      "    dir_others = outdir + 'notmp/'\n",
      "    if not os.path.isdir(outdir):\n",
      "        os.makedirs(outdir)\n",
      "    if not os.path.isdir(dir_others):\n",
      "        os.makedirs(dir_others)\n",
      "    fname_temp = '{0} {1} ({2})({3}).txt'\n",
      "    reg_party = r'\\(CDU-CSU\\)|\\(FDP\\)|\\(SPD\\)|\\(B\u00dcNDNIS 90-DIE GR\u00dcNEN\\)|\\(DIE LINKE\\)|\\(fraktionslos\\)'\n",
      "    reg_para = r'\\(.+\\)'\n",
      "    reg_rm = r'(Dr\\.)|(h\\. +c\\. +)|(:)|(\\n)'\n",
      "    party_match = re.search(reg_party,line)\n",
      "    line = re.sub(reg_para,'',line)\n",
      "    line = re.sub(reg_rm,'',line)\n",
      "    line = re.sub('\\s+$','',line)\n",
      "    line = re.sub('^\\s+','',line)\n",
      "    line = re.sub('/', '_', line)\n",
      "    mandate = None   \n",
      "    if party_match: \n",
      "        mandate = matchNames(line,namelist)\n",
      "        if not mandate:\n",
      "            mandate = 'NA'\n",
      "            no_mandate.append(line)\n",
      "        party = party_match.group()\n",
      "        fname = fname_temp.format(line,party,period,mandate)\n",
      "        fname = outdir + fname\n",
      "    else:\n",
      "        fname = dir_others + line + '.txt'\n",
      "    return unicode(fname, 'UTF-8')\n",
      "\n",
      "\n",
      "# Get list of mps with districts etc\n",
      "namelist_fname = \"aux_files/mp_list.txt\"\n",
      "namelist_file = open(namelist_fname,'r')\n",
      "namelist1 = namelist_file.readlines()\n",
      "\n",
      "namelist = {}\n",
      "for mp in namelist1:\n",
      "    line = mp\n",
      "    line = re.sub('/','-',line)\n",
      "    line = re.sub('\\n','',line)\n",
      "    mp = line.split(',')\n",
      "    name = re.sub('\\s+$','',mp[0])\n",
      "    namelist[name] = {'Name':name ,'Party':mp[1],'15':mp[2],'16':mp[3],'17':mp[4]}\n",
      "\n",
      "outfile = None\n",
      "files = os.listdir(indir)\n",
      "k = 0\n",
      "line_count = 0\n",
      "session_stamp = '\\n<session>\\n%s\\n<\\session>\\n\\n'\n",
      "first_entry = True\n",
      "no_mandate = []\n",
      "\n",
      "for infile_name in files:\n",
      "    \"\"\"\n",
      "    #=================================\n",
      "    start_file = '15001.txt'\n",
      "    stop_file  = '17032.txt'\n",
      "    if infile_name == start_file:\n",
      "        k = 1\n",
      "    if k == 0:\n",
      "        print infile_name + ' skipped'\n",
      "        continue\n",
      "    if infile_name == stop_file:\n",
      "        break\n",
      "    #=================================\n",
      "    #\"\"\"\n",
      "\n",
      "    period = infile_name[0:2]\n",
      "    infile_name_dir = indir + infile_name\n",
      "    infile = open(infile_name_dir)\n",
      "    print 'Recording from ' + infile_name\n",
      "    \n",
      "    i = 0\n",
      "    changeline = 0\n",
      "    change_count = 0\n",
      "    change_dic = {}\n",
      "    fname_list = []\n",
      "    \n",
      "    for line in infile:\n",
      "        line_count = line_count + 1\n",
      "        \n",
      "        # remove weird encoding accidents\n",
      "        line = re.sub('\\(cid:228\\)','\u00e4',line)\n",
      "        line = re.sub('\\(cid:246\\)','\u00f6',line)\n",
      "        line = re.sub('\\(cid:252\\)','\u00fc',line)\n",
      "        line = re.sub('\\(cid:223\\)','\u00df',line)\n",
      "        \n",
      "        # remove spaces in beginning of line\n",
      "        line = re.sub('^ ','',line)\n",
      "        \n",
      "        # Controls for starting after the preamble and stopping at the appendix\n",
      "        start = re.search(reg_start,line)\n",
      "        stop = re.search(reg_stop,line)\n",
      "        if start and i == 0:\n",
      "            i = 1 \n",
      "        if stop:\n",
      "            outfile.close()\n",
      "            outfile = None\n",
      "            change_dic[infile_name] = change_count\n",
      "            break\n",
      "        if i == 0:\n",
      "            continue\n",
      "        comment = re.search(reg_comment, line)\n",
      "        if comment:\n",
      "            continue\n",
      "        \n",
      "        # Identify Speaker change\n",
      "        van = None\n",
      "        spkch = re.search(reg_spkch,line)\n",
      "        if spkch:\n",
      "            ncap = re.search(reg_ncap,line)    \n",
      "            space = re.search(reg_space,line)  \n",
      "            TOP = re.search(reg_TOP,line)       \n",
      "            ex1 = re.search(reg_ex1,line)       \n",
      "            bracket = re.search(reg_bracket,line)\n",
      "            smcol = re.search(reg_smcol,line)\n",
      "            \n",
      "            if ncap:\n",
      "                van = re.search(reg_van,line) # Exception for names with van/von/des etc...\n",
      "                \n",
      "                if van:\n",
      "                    tline = re.sub(reg_van,' ',line)\n",
      "                    ncap = re.search(reg_ncap,tline)\n",
      "            \n",
      "            if space and not ncap and not TOP and not ex1 and not bracket and not smcol:\n",
      "                change_count = change_count + 1\n",
      "                changeline = 1\n",
      "       \n",
      "        if outfile != None and changeline == 0:\n",
      "            \n",
      "            if first_entry:\n",
      "                outfile.write(session_stamp %infile_name[0:5])\n",
      "                first_entry = False\n",
      "\n",
      "            outfile.write(line)\n",
      "            \n",
      "        if changeline == 1:\n",
      "            \n",
      "            if outfile != None:\n",
      "                outfile.close()\n",
      "            \n",
      "            fname = makeFilename(line,period,namelist,outdir)\n",
      "\n",
      "            if fname not in fname_list:\n",
      "                first_entry = True\n",
      "                fname_list.append(fname)\n",
      "            \n",
      "            outfile = open(fname,'a')\n",
      "\n",
      "        changeline = 0\n",
      "        \n",
      "    infile.close()\n",
      "    #break\n",
      "for key in change_dic:\n",
      "    print change_dic[key]\n"
     ],
     "language": "python",
     "metadata": {},
     "outputs": [
      {
       "output_type": "stream",
       "stream": "stdout",
       "text": [
        "Recording from 15001.txt\n",
        "Recording from 15002.txt"
       ]
      },
      {
       "output_type": "stream",
       "stream": "stdout",
       "text": [
        "\n",
        "Recording from 15003.txt\n",
        "Recording from 15004.txt"
       ]
      },
      {
       "output_type": "stream",
       "stream": "stdout",
       "text": [
        "\n",
        "Recording from 15005.txt"
       ]
      },
      {
       "output_type": "stream",
       "stream": "stdout",
       "text": [
        "\n",
        "Recording from 15006.txt"
       ]
      },
      {
       "output_type": "stream",
       "stream": "stdout",
       "text": [
        "\n",
        "Recording from 15007.txt"
       ]
      },
      {
       "output_type": "stream",
       "stream": "stdout",
       "text": [
        "\n",
        "Recording from 15008.txt"
       ]
      },
      {
       "output_type": "stream",
       "stream": "stdout",
       "text": [
        "\n",
        "Recording from 15009.txt"
       ]
      },
      {
       "output_type": "stream",
       "stream": "stdout",
       "text": [
        "\n",
        "Recording from 15010.txt"
       ]
      },
      {
       "output_type": "stream",
       "stream": "stdout",
       "text": [
        "\n",
        "Recording from 15011.txt"
       ]
      },
      {
       "output_type": "stream",
       "stream": "stdout",
       "text": [
        "\n",
        "Recording from 15012.txt"
       ]
      },
      {
       "output_type": "stream",
       "stream": "stdout",
       "text": [
        "\n",
        "Recording from 15013.txt"
       ]
      },
      {
       "output_type": "stream",
       "stream": "stdout",
       "text": [
        "\n",
        "Recording from 15014.txt"
       ]
      },
      {
       "output_type": "stream",
       "stream": "stdout",
       "text": [
        "\n",
        "Recording from 15015.txt"
       ]
      },
      {
       "output_type": "stream",
       "stream": "stdout",
       "text": [
        "\n",
        "Recording from 15016.txt"
       ]
      },
      {
       "output_type": "stream",
       "stream": "stdout",
       "text": [
        "\n",
        "Recording from 15017.txt"
       ]
      },
      {
       "output_type": "stream",
       "stream": "stdout",
       "text": [
        "\n",
        "Recording from 15018.txt"
       ]
      },
      {
       "output_type": "stream",
       "stream": "stdout",
       "text": [
        "\n",
        "Recording from 15019.txt"
       ]
      },
      {
       "output_type": "stream",
       "stream": "stdout",
       "text": [
        "\n",
        "Recording from 15020.txt"
       ]
      },
      {
       "output_type": "stream",
       "stream": "stdout",
       "text": [
        "\n",
        "Recording from 15021.txt"
       ]
      },
      {
       "output_type": "stream",
       "stream": "stdout",
       "text": [
        "\n",
        "Recording from 15022.txt"
       ]
      },
      {
       "output_type": "stream",
       "stream": "stdout",
       "text": [
        "\n",
        "Recording from 15023.txt"
       ]
      },
      {
       "output_type": "stream",
       "stream": "stdout",
       "text": [
        "\n",
        "Recording from 15024.txt"
       ]
      },
      {
       "output_type": "stream",
       "stream": "stdout",
       "text": [
        "\n",
        "Recording from 15025.txt"
       ]
      },
      {
       "output_type": "stream",
       "stream": "stdout",
       "text": [
        "\n",
        "Recording from 15026.txt"
       ]
      },
      {
       "output_type": "stream",
       "stream": "stdout",
       "text": [
        "\n",
        "Recording from 15027.txt"
       ]
      },
      {
       "output_type": "stream",
       "stream": "stdout",
       "text": [
        "\n",
        "Recording from 15028.txt"
       ]
      },
      {
       "output_type": "stream",
       "stream": "stdout",
       "text": [
        "\n",
        "Recording from 15029.txt"
       ]
      },
      {
       "output_type": "stream",
       "stream": "stdout",
       "text": [
        "\n",
        "Recording from 15030.txt"
       ]
      },
      {
       "output_type": "stream",
       "stream": "stdout",
       "text": [
        "\n",
        "Recording from 15031.txt"
       ]
      },
      {
       "output_type": "stream",
       "stream": "stdout",
       "text": [
        "\n",
        "Recording from 15032.txt"
       ]
      },
      {
       "output_type": "stream",
       "stream": "stdout",
       "text": [
        "\n",
        "Recording from 15033.txt"
       ]
      },
      {
       "output_type": "stream",
       "stream": "stdout",
       "text": [
        "\n",
        "Recording from 15034.txt"
       ]
      },
      {
       "output_type": "stream",
       "stream": "stdout",
       "text": [
        "\n",
        "Recording from 15035.txt"
       ]
      },
      {
       "output_type": "stream",
       "stream": "stdout",
       "text": [
        "\n",
        "Recording from 15036.txt"
       ]
      },
      {
       "output_type": "stream",
       "stream": "stdout",
       "text": [
        "\n",
        "Recording from 15037.txt"
       ]
      },
      {
       "output_type": "stream",
       "stream": "stdout",
       "text": [
        "\n",
        "Recording from 15038.txt"
       ]
      },
      {
       "output_type": "stream",
       "stream": "stdout",
       "text": [
        "\n",
        "Recording from 15039.txt"
       ]
      },
      {
       "output_type": "stream",
       "stream": "stdout",
       "text": [
        "\n",
        "Recording from 15040.txt"
       ]
      },
      {
       "output_type": "stream",
       "stream": "stdout",
       "text": [
        "\n",
        "Recording from 15041.txt"
       ]
      },
      {
       "output_type": "stream",
       "stream": "stdout",
       "text": [
        "\n",
        "Recording from 15042.txt"
       ]
      },
      {
       "output_type": "stream",
       "stream": "stdout",
       "text": [
        "\n",
        "Recording from 15043.txt"
       ]
      },
      {
       "output_type": "stream",
       "stream": "stdout",
       "text": [
        "\n",
        "Recording from 15044.txt"
       ]
      },
      {
       "output_type": "stream",
       "stream": "stdout",
       "text": [
        "\n",
        "Recording from 15045.txt"
       ]
      },
      {
       "output_type": "stream",
       "stream": "stdout",
       "text": [
        "\n",
        "Recording from 15046.txt"
       ]
      },
      {
       "output_type": "stream",
       "stream": "stdout",
       "text": [
        "\n",
        "Recording from 15047.txt"
       ]
      },
      {
       "output_type": "stream",
       "stream": "stdout",
       "text": [
        "\n",
        "Recording from 15048.txt"
       ]
      },
      {
       "output_type": "stream",
       "stream": "stdout",
       "text": [
        "\n",
        "Recording from 15049.txt"
       ]
      },
      {
       "output_type": "stream",
       "stream": "stdout",
       "text": [
        "\n",
        "Recording from 15050.txt"
       ]
      },
      {
       "output_type": "stream",
       "stream": "stdout",
       "text": [
        "\n",
        "Recording from 15051.txt\n",
        "Recording from 15052.txt"
       ]
      },
      {
       "output_type": "stream",
       "stream": "stdout",
       "text": [
        "\n",
        "Recording from 15053.txt"
       ]
      },
      {
       "output_type": "stream",
       "stream": "stdout",
       "text": [
        "\n",
        "Recording from 15054.txt"
       ]
      },
      {
       "output_type": "stream",
       "stream": "stdout",
       "text": [
        "\n",
        "Recording from 15055.txt"
       ]
      },
      {
       "output_type": "stream",
       "stream": "stdout",
       "text": [
        "\n",
        "Recording from 15056.txt"
       ]
      },
      {
       "output_type": "stream",
       "stream": "stdout",
       "text": [
        "\n",
        "Recording from 15057.txt"
       ]
      },
      {
       "output_type": "stream",
       "stream": "stdout",
       "text": [
        "\n",
        "Recording from 15058.txt"
       ]
      },
      {
       "output_type": "stream",
       "stream": "stdout",
       "text": [
        "\n",
        "Recording from 15059.txt"
       ]
      },
      {
       "output_type": "stream",
       "stream": "stdout",
       "text": [
        "\n",
        "Recording from 15060.txt"
       ]
      },
      {
       "output_type": "stream",
       "stream": "stdout",
       "text": [
        "\n",
        "Recording from 15061.txt"
       ]
      },
      {
       "output_type": "stream",
       "stream": "stdout",
       "text": [
        "\n",
        "Recording from 15062.txt"
       ]
      },
      {
       "output_type": "stream",
       "stream": "stdout",
       "text": [
        "\n",
        "Recording from 15063.txt"
       ]
      },
      {
       "output_type": "stream",
       "stream": "stdout",
       "text": [
        "\n",
        "Recording from 15064.txt"
       ]
      },
      {
       "output_type": "stream",
       "stream": "stdout",
       "text": [
        "\n",
        "Recording from 15065.txt"
       ]
      },
      {
       "output_type": "stream",
       "stream": "stdout",
       "text": [
        "\n",
        "Recording from 15066.txt"
       ]
      },
      {
       "output_type": "stream",
       "stream": "stdout",
       "text": [
        "\n",
        "Recording from 15067.txt"
       ]
      },
      {
       "output_type": "stream",
       "stream": "stdout",
       "text": [
        "\n",
        "Recording from 15068.txt"
       ]
      },
      {
       "output_type": "stream",
       "stream": "stdout",
       "text": [
        "\n",
        "Recording from 15069.txt"
       ]
      },
      {
       "output_type": "stream",
       "stream": "stdout",
       "text": [
        "\n",
        "Recording from 15070.txt"
       ]
      },
      {
       "output_type": "stream",
       "stream": "stdout",
       "text": [
        "\n",
        "Recording from 15071.txt"
       ]
      },
      {
       "output_type": "stream",
       "stream": "stdout",
       "text": [
        "\n",
        "Recording from 15072.txt"
       ]
      },
      {
       "output_type": "stream",
       "stream": "stdout",
       "text": [
        "\n",
        "Recording from 15073.txt"
       ]
      },
      {
       "output_type": "stream",
       "stream": "stdout",
       "text": [
        "\n",
        "Recording from 15074.txt"
       ]
      },
      {
       "output_type": "stream",
       "stream": "stdout",
       "text": [
        "\n",
        "Recording from 15075.txt"
       ]
      },
      {
       "output_type": "stream",
       "stream": "stdout",
       "text": [
        "\n",
        "Recording from 15076.txt"
       ]
      },
      {
       "output_type": "stream",
       "stream": "stdout",
       "text": [
        "\n",
        "Recording from 15077.txt"
       ]
      },
      {
       "output_type": "stream",
       "stream": "stdout",
       "text": [
        "\n",
        "Recording from 15078.txt"
       ]
      },
      {
       "output_type": "stream",
       "stream": "stdout",
       "text": [
        "\n",
        "Recording from 15079.txt"
       ]
      },
      {
       "output_type": "stream",
       "stream": "stdout",
       "text": [
        "\n",
        "Recording from 15080.txt"
       ]
      },
      {
       "output_type": "stream",
       "stream": "stdout",
       "text": [
        "\n",
        "Recording from 15081.txt"
       ]
      },
      {
       "output_type": "stream",
       "stream": "stdout",
       "text": [
        "\n",
        "Recording from 15082.txt"
       ]
      },
      {
       "output_type": "stream",
       "stream": "stdout",
       "text": [
        "\n",
        "Recording from 15083.txt"
       ]
      },
      {
       "output_type": "stream",
       "stream": "stdout",
       "text": [
        "\n",
        "Recording from 15084.txt"
       ]
      },
      {
       "output_type": "stream",
       "stream": "stdout",
       "text": [
        "\n",
        "Recording from 15085.txt"
       ]
      },
      {
       "output_type": "stream",
       "stream": "stdout",
       "text": [
        "\n",
        "Recording from 15086.txt"
       ]
      },
      {
       "output_type": "stream",
       "stream": "stdout",
       "text": [
        "\n",
        "Recording from 15087.txt"
       ]
      },
      {
       "output_type": "stream",
       "stream": "stdout",
       "text": [
        "\n",
        "Recording from 15088.txt"
       ]
      },
      {
       "output_type": "stream",
       "stream": "stdout",
       "text": [
        "\n",
        "Recording from 15089.txt"
       ]
      },
      {
       "output_type": "stream",
       "stream": "stdout",
       "text": [
        "\n",
        "Recording from 15090.txt"
       ]
      },
      {
       "output_type": "stream",
       "stream": "stdout",
       "text": [
        "\n",
        "Recording from 15091.txt"
       ]
      },
      {
       "output_type": "stream",
       "stream": "stdout",
       "text": [
        "\n",
        "Recording from 15092.txt"
       ]
      },
      {
       "output_type": "stream",
       "stream": "stdout",
       "text": [
        "\n",
        "Recording from 15093.txt"
       ]
      },
      {
       "output_type": "stream",
       "stream": "stdout",
       "text": [
        "\n",
        "Recording from 15094.txt"
       ]
      },
      {
       "output_type": "stream",
       "stream": "stdout",
       "text": [
        "\n",
        "Recording from 15095.txt"
       ]
      },
      {
       "output_type": "stream",
       "stream": "stdout",
       "text": [
        "\n",
        "Recording from 15096.txt"
       ]
      },
      {
       "output_type": "stream",
       "stream": "stdout",
       "text": [
        "\n",
        "Recording from 15097.txt"
       ]
      },
      {
       "output_type": "stream",
       "stream": "stdout",
       "text": [
        "\n",
        "Recording from 15098.txt"
       ]
      },
      {
       "output_type": "stream",
       "stream": "stdout",
       "text": [
        "\n",
        "Recording from 15099.txt"
       ]
      },
      {
       "output_type": "stream",
       "stream": "stdout",
       "text": [
        "\n",
        "Recording from 15100.txt"
       ]
      },
      {
       "output_type": "stream",
       "stream": "stdout",
       "text": [
        "\n",
        "Recording from 15101.txt"
       ]
      },
      {
       "output_type": "stream",
       "stream": "stdout",
       "text": [
        "\n",
        "Recording from 15102.txt"
       ]
      },
      {
       "output_type": "stream",
       "stream": "stdout",
       "text": [
        "\n",
        "Recording from 15103.txt"
       ]
      },
      {
       "output_type": "stream",
       "stream": "stdout",
       "text": [
        "\n",
        "Recording from 15104.txt"
       ]
      },
      {
       "output_type": "stream",
       "stream": "stdout",
       "text": [
        "\n",
        "Recording from 15105.txt"
       ]
      },
      {
       "output_type": "stream",
       "stream": "stdout",
       "text": [
        "\n",
        "Recording from 15106.txt"
       ]
      },
      {
       "output_type": "stream",
       "stream": "stdout",
       "text": [
        "\n",
        "Recording from 15107.txt"
       ]
      },
      {
       "output_type": "stream",
       "stream": "stdout",
       "text": [
        "\n",
        "Recording from 15108.txt"
       ]
      },
      {
       "output_type": "stream",
       "stream": "stdout",
       "text": [
        "\n",
        "Recording from 15109.txt"
       ]
      },
      {
       "output_type": "stream",
       "stream": "stdout",
       "text": [
        "\n",
        "Recording from 15110.txt"
       ]
      },
      {
       "output_type": "stream",
       "stream": "stdout",
       "text": [
        "\n",
        "Recording from 15111.txt"
       ]
      },
      {
       "output_type": "stream",
       "stream": "stdout",
       "text": [
        "\n",
        "Recording from 15112.txt"
       ]
      },
      {
       "output_type": "stream",
       "stream": "stdout",
       "text": [
        "\n",
        "Recording from 15113.txt"
       ]
      },
      {
       "output_type": "stream",
       "stream": "stdout",
       "text": [
        "\n",
        "Recording from 15114.txt"
       ]
      },
      {
       "output_type": "stream",
       "stream": "stdout",
       "text": [
        "\n",
        "Recording from 15115.txt"
       ]
      },
      {
       "output_type": "stream",
       "stream": "stdout",
       "text": [
        "\n",
        "Recording from 15116.txt"
       ]
      },
      {
       "output_type": "stream",
       "stream": "stdout",
       "text": [
        "\n",
        "Warning: No mandate type found for Hermann Otto Solms,"
       ]
      },
      {
       "output_type": "stream",
       "stream": "stdout",
       "text": [
        "\n",
        "Recording from 15117.txt"
       ]
      },
      {
       "output_type": "stream",
       "stream": "stdout",
       "text": [
        "\n",
        "Recording from 15118.txt"
       ]
      },
      {
       "output_type": "stream",
       "stream": "stdout",
       "text": [
        "\n",
        "Recording from 15119.txt"
       ]
      },
      {
       "output_type": "stream",
       "stream": "stdout",
       "text": [
        "\n",
        "Recording from 15120.txt"
       ]
      },
      {
       "output_type": "stream",
       "stream": "stdout",
       "text": [
        "\n",
        "Recording from 15121.txt"
       ]
      },
      {
       "output_type": "stream",
       "stream": "stdout",
       "text": [
        "\n",
        "Recording from 15122.txt"
       ]
      },
      {
       "output_type": "stream",
       "stream": "stdout",
       "text": [
        "\n",
        "Recording from 15123.txt"
       ]
      },
      {
       "output_type": "stream",
       "stream": "stdout",
       "text": [
        "\n",
        "Recording from 15124.txt"
       ]
      },
      {
       "output_type": "stream",
       "stream": "stdout",
       "text": [
        "\n",
        "Recording from 15125.txt"
       ]
      },
      {
       "output_type": "stream",
       "stream": "stdout",
       "text": [
        "\n",
        "Recording from 15126.txt"
       ]
      },
      {
       "output_type": "stream",
       "stream": "stdout",
       "text": [
        "\n",
        "Recording from 15127.txt"
       ]
      },
      {
       "output_type": "stream",
       "stream": "stdout",
       "text": [
        "\n",
        "Recording from 15128.txt"
       ]
      },
      {
       "output_type": "stream",
       "stream": "stdout",
       "text": [
        "\n",
        "Recording from 15129.txt"
       ]
      },
      {
       "output_type": "stream",
       "stream": "stdout",
       "text": [
        "\n",
        "Recording from 15130.txt"
       ]
      },
      {
       "output_type": "stream",
       "stream": "stdout",
       "text": [
        "\n",
        "Recording from 15131.txt"
       ]
      },
      {
       "output_type": "stream",
       "stream": "stdout",
       "text": [
        "\n",
        "Recording from 15132.txt"
       ]
      },
      {
       "output_type": "stream",
       "stream": "stdout",
       "text": [
        "\n",
        "Recording from 15133.txt"
       ]
      },
      {
       "output_type": "stream",
       "stream": "stdout",
       "text": [
        "\n",
        "Recording from 15134.txt"
       ]
      },
      {
       "output_type": "stream",
       "stream": "stdout",
       "text": [
        "\n",
        "Recording from 15135.txt"
       ]
      },
      {
       "output_type": "stream",
       "stream": "stdout",
       "text": [
        "\n",
        "Recording from 15136.txt"
       ]
      },
      {
       "output_type": "stream",
       "stream": "stdout",
       "text": [
        "\n",
        "Recording from 15137.txt"
       ]
      },
      {
       "output_type": "stream",
       "stream": "stdout",
       "text": [
        "\n",
        "Recording from 15138.txt"
       ]
      },
      {
       "output_type": "stream",
       "stream": "stdout",
       "text": [
        "\n",
        "Recording from 15139.txt"
       ]
      },
      {
       "output_type": "stream",
       "stream": "stdout",
       "text": [
        "\n",
        "Recording from 15140.txt"
       ]
      },
      {
       "output_type": "stream",
       "stream": "stdout",
       "text": [
        "\n",
        "Recording from 15141.txt"
       ]
      },
      {
       "output_type": "stream",
       "stream": "stdout",
       "text": [
        "\n",
        "Recording from 15142.txt"
       ]
      },
      {
       "output_type": "stream",
       "stream": "stdout",
       "text": [
        "\n",
        "Recording from 15143.txt"
       ]
      },
      {
       "output_type": "stream",
       "stream": "stdout",
       "text": [
        "\n",
        "Recording from 15144.txt"
       ]
      },
      {
       "output_type": "stream",
       "stream": "stdout",
       "text": [
        "\n",
        "Recording from 15145.txt"
       ]
      },
      {
       "output_type": "stream",
       "stream": "stdout",
       "text": [
        "\n",
        "Recording from 15146.txt"
       ]
      },
      {
       "output_type": "stream",
       "stream": "stdout",
       "text": [
        "\n",
        "Recording from 15147.txt"
       ]
      },
      {
       "output_type": "stream",
       "stream": "stdout",
       "text": [
        "\n",
        "Recording from 15148.txt"
       ]
      },
      {
       "output_type": "stream",
       "stream": "stdout",
       "text": [
        "\n",
        "Recording from 15149.txt"
       ]
      },
      {
       "output_type": "stream",
       "stream": "stdout",
       "text": [
        "\n",
        "Recording from 15150.txt"
       ]
      },
      {
       "output_type": "stream",
       "stream": "stdout",
       "text": [
        "\n",
        "Recording from 15151.txt"
       ]
      },
      {
       "output_type": "stream",
       "stream": "stdout",
       "text": [
        "\n",
        "Recording from 15152.txt"
       ]
      },
      {
       "output_type": "stream",
       "stream": "stdout",
       "text": [
        "\n",
        "Recording from 15153.txt"
       ]
      },
      {
       "output_type": "stream",
       "stream": "stdout",
       "text": [
        "\n",
        "Recording from 15154.txt"
       ]
      },
      {
       "output_type": "stream",
       "stream": "stdout",
       "text": [
        "\n",
        "Recording from 15155.txt"
       ]
      },
      {
       "output_type": "stream",
       "stream": "stdout",
       "text": [
        "\n",
        "Recording from 15156.txt"
       ]
      },
      {
       "output_type": "stream",
       "stream": "stdout",
       "text": [
        "\n",
        "Recording from 15157.txt"
       ]
      },
      {
       "output_type": "stream",
       "stream": "stdout",
       "text": [
        "\n",
        "Recording from 15158.txt"
       ]
      },
      {
       "output_type": "stream",
       "stream": "stdout",
       "text": [
        "\n",
        "Recording from 15159.txt"
       ]
      },
      {
       "output_type": "stream",
       "stream": "stdout",
       "text": [
        "\n",
        "Recording from 15160.txt"
       ]
      },
      {
       "output_type": "stream",
       "stream": "stdout",
       "text": [
        "\n",
        "Recording from 15161.txt"
       ]
      },
      {
       "output_type": "stream",
       "stream": "stdout",
       "text": [
        "\n",
        "Recording from 15162.txt"
       ]
      },
      {
       "output_type": "stream",
       "stream": "stdout",
       "text": [
        "\n",
        "Recording from 15163.txt"
       ]
      },
      {
       "output_type": "stream",
       "stream": "stdout",
       "text": [
        "\n",
        "Recording from 15164.txt"
       ]
      },
      {
       "output_type": "stream",
       "stream": "stdout",
       "text": [
        "\n",
        "Recording from 15165.txt"
       ]
      },
      {
       "output_type": "stream",
       "stream": "stdout",
       "text": [
        "\n",
        "Recording from 15166.txt"
       ]
      },
      {
       "output_type": "stream",
       "stream": "stdout",
       "text": [
        "\n",
        "Recording from 15167.txt"
       ]
      },
      {
       "output_type": "stream",
       "stream": "stdout",
       "text": [
        "\n",
        "Recording from 15168.txt"
       ]
      },
      {
       "output_type": "stream",
       "stream": "stdout",
       "text": [
        "\n",
        "Recording from 15169.txt"
       ]
      },
      {
       "output_type": "stream",
       "stream": "stdout",
       "text": [
        "\n",
        "Recording from 15170.txt"
       ]
      },
      {
       "output_type": "stream",
       "stream": "stdout",
       "text": [
        "\n",
        "Recording from 15171.txt"
       ]
      },
      {
       "output_type": "stream",
       "stream": "stdout",
       "text": [
        "\n",
        "Recording from 15172.txt"
       ]
      },
      {
       "output_type": "stream",
       "stream": "stdout",
       "text": [
        "\n",
        "Recording from 15173.txt"
       ]
      },
      {
       "output_type": "stream",
       "stream": "stdout",
       "text": [
        "\n",
        "Recording from 15174.txt"
       ]
      },
      {
       "output_type": "stream",
       "stream": "stdout",
       "text": [
        "\n",
        "Recording from 15175.txt"
       ]
      },
      {
       "output_type": "stream",
       "stream": "stdout",
       "text": [
        "\n",
        "Recording from 15176.txt"
       ]
      },
      {
       "output_type": "stream",
       "stream": "stdout",
       "text": [
        "\n",
        "Recording from 15177.txt"
       ]
      },
      {
       "output_type": "stream",
       "stream": "stdout",
       "text": [
        "\n",
        "Recording from 15178.txt"
       ]
      },
      {
       "output_type": "stream",
       "stream": "stdout",
       "text": [
        "\n",
        "Recording from 15179.txt"
       ]
      },
      {
       "output_type": "stream",
       "stream": "stdout",
       "text": [
        "\n",
        "Recording from 15180.txt"
       ]
      },
      {
       "output_type": "stream",
       "stream": "stdout",
       "text": [
        "\n",
        "Recording from 15181.txt"
       ]
      },
      {
       "output_type": "stream",
       "stream": "stdout",
       "text": [
        "\n",
        "Recording from 15182.txt"
       ]
      },
      {
       "output_type": "stream",
       "stream": "stdout",
       "text": [
        "\n",
        "Recording from 15183.txt"
       ]
      },
      {
       "output_type": "stream",
       "stream": "stdout",
       "text": [
        "\n",
        "Recording from 15184.txt"
       ]
      },
      {
       "output_type": "stream",
       "stream": "stdout",
       "text": [
        "\n",
        "Recording from 15185.txt"
       ]
      },
      {
       "output_type": "stream",
       "stream": "stdout",
       "text": [
        "\n",
        "Recording from 15186.txt"
       ]
      },
      {
       "output_type": "stream",
       "stream": "stdout",
       "text": [
        "\n",
        "Recording from 15187.txt"
       ]
      },
      {
       "output_type": "stream",
       "stream": "stdout",
       "text": [
        "\n",
        "Recording from 16011a.txt"
       ]
      },
      {
       "output_type": "stream",
       "stream": "stdout",
       "text": [
        "\n"
       ]
      },
      {
       "ename": "AttributeError",
       "evalue": "'NoneType' object has no attribute 'close'",
       "output_type": "pyerr",
       "traceback": [
        "\u001b[1;31m---------------------------------------------------------------------------\u001b[0m\n\u001b[1;31mAttributeError\u001b[0m                            Traceback (most recent call last)",
        "\u001b[1;32m<ipython-input-1-2401272b5de5>\u001b[0m in \u001b[0;36m<module>\u001b[1;34m()\u001b[0m\n\u001b[0;32m    162\u001b[0m             \u001b[0mi\u001b[0m \u001b[1;33m=\u001b[0m \u001b[1;36m1\u001b[0m\u001b[1;33m\u001b[0m\u001b[0m\n\u001b[0;32m    163\u001b[0m         \u001b[1;32mif\u001b[0m \u001b[0mstop\u001b[0m\u001b[1;33m:\u001b[0m\u001b[1;33m\u001b[0m\u001b[0m\n\u001b[1;32m--> 164\u001b[1;33m             \u001b[0moutfile\u001b[0m\u001b[1;33m.\u001b[0m\u001b[0mclose\u001b[0m\u001b[1;33m(\u001b[0m\u001b[1;33m)\u001b[0m\u001b[1;33m\u001b[0m\u001b[0m\n\u001b[0m\u001b[0;32m    165\u001b[0m             \u001b[0moutfile\u001b[0m \u001b[1;33m=\u001b[0m \u001b[0mNone\u001b[0m\u001b[1;33m\u001b[0m\u001b[0m\n\u001b[0;32m    166\u001b[0m             \u001b[0mchange_dic\u001b[0m\u001b[1;33m[\u001b[0m\u001b[0minfile_name\u001b[0m\u001b[1;33m]\u001b[0m \u001b[1;33m=\u001b[0m \u001b[0mchange_count\u001b[0m\u001b[1;33m\u001b[0m\u001b[0m\n",
        "\u001b[1;31mAttributeError\u001b[0m: 'NoneType' object has no attribute 'close'"
       ]
      }
     ],
     "prompt_number": 1
    },
    {
     "cell_type": "code",
     "collapsed": false,
     "input": [
      "st = 'CDU/CSU'\n",
      "print re.sub('/', '-', st)"
     ],
     "language": "python",
     "metadata": {},
     "outputs": [
      {
       "output_type": "stream",
       "stream": "stdout",
       "text": [
        "CDU-CSU\n"
       ]
      }
     ],
     "prompt_number": 26
    }
   ],
   "metadata": {}
  }
 ]
}